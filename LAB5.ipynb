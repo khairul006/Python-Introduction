{
  "nbformat": 4,
  "nbformat_minor": 0,
  "metadata": {
    "colab": {
      "name": "LAB5.ipynb",
      "provenance": [],
      "authorship_tag": "ABX9TyMSE145ypAwudpklbYMCE7Z",
      "include_colab_link": true
    },
    "kernelspec": {
      "name": "python3",
      "display_name": "Python 3"
    },
    "language_info": {
      "name": "python"
    }
  },
  "cells": [
    {
      "cell_type": "markdown",
      "metadata": {
        "id": "view-in-github",
        "colab_type": "text"
      },
      "source": [
        "<a href=\"https://colab.research.google.com/github/khairul006/Python-Introduction/blob/main/LAB5.ipynb\" target=\"_parent\"><img src=\"https://colab.research.google.com/assets/colab-badge.svg\" alt=\"Open In Colab\"/></a>"
      ]
    },
    {
      "cell_type": "markdown",
      "metadata": {
        "id": "vUNCogJGL4V2"
      },
      "source": [
        "Name: Mohamad Khairul Zamidi\n",
        "\n",
        "Matric no.: 202180\n",
        "\n",
        "Lab 5 (due 30 April 2021)\n",
        "\n",
        "---\n",
        "\n"
      ]
    },
    {
      "cell_type": "code",
      "metadata": {
        "id": "VZI9sJA0Lv_j"
      },
      "source": [
        "##Question 1\n",
        " \n",
        "def checkpalindrome(word):\n",
        "  if len(word)==1:\n",
        "    validity=False\n",
        "  else:\n",
        "    y=len(word)-1\n",
        "    for x in word:\n",
        "      if x==word[y]:\n",
        "        validity=True\n",
        "      else:\n",
        "        validity=False\n",
        "      y=y-1\n",
        "  return validity\n",
        " \n",
        "list1=['kakak','a','makan','kucing','lool','tapi','katak','sedap','sangat','sepuluh','gg','jangan','percaya','palindrome','testset','madam','tujujut','lapan','sembilan','doplo']\n",
        "palindrome=[]\n",
        "print(\"Checking Palindrome:\")\n",
        "for val in list1:\n",
        "  #print(val,checkpalindrome(val))\n",
        "  if checkpalindrome(val)==True:\n",
        "    palindrome.append(val)\n",
        " \n",
        "print(\"\\nPalindrome: \",palindrome)"
      ],
      "execution_count": null,
      "outputs": []
    },
    {
      "cell_type": "code",
      "metadata": {
        "colab": {
          "base_uri": "https://localhost:8080/"
        },
        "id": "KymJcy_1UgGi",
        "outputId": "a7d9b48a-bda5-4681-80ee-dc07a4cf2748"
      },
      "source": [
        "## Question 2\n",
        "\n",
        "def checkprime(num):\n",
        "  if num<2:\n",
        "    return False\n",
        "  else:\n",
        "    for y in range(2,num+1):\n",
        "      if(num%y)==0:\n",
        "        if y==num:\n",
        "          return True\n",
        "        else: \n",
        "          return False\n",
        "\n",
        "\n",
        "list1=[1,2,3,4,5,6,7,8,9,10,11,12,13,14,15,16,17,18,19,20]\n",
        "prime=[]\n",
        "for val in list1:\n",
        "  #print(val,checkprime(val))\n",
        "  checkprime(val)\n",
        "  if checkprime(val) == True:\n",
        "    prime.append(val)\n",
        "\n",
        "print('Prime number:',prime)"
      ],
      "execution_count": null,
      "outputs": [
        {
          "output_type": "stream",
          "text": [
            "Prime number: [2, 3, 5, 7, 11, 13, 17, 19]\n"
          ],
          "name": "stdout"
        }
      ]
    },
    {
      "cell_type": "code",
      "metadata": {
        "id": "NdUtOQSIVt00"
      },
      "source": [
        "## Question 3\n",
        " \n",
        "def calculateupperlower(str1):\n",
        "  upper=[]\n",
        "  lower=[]\n",
        "  for x in str1:\n",
        "    if x.isupper():\n",
        "      upper.append(x)\n",
        "    if x.islower():\n",
        "      lower.append(x)\n",
        "  return len(upper),len(lower)\n",
        " \n",
        "teststring=['EntahLA NI','Iye2 je','SeRIous Arhh','LepaKKK jom','Tak BoLeh Tak Boleh','Lagi 5','EmPat LaGi','Three More','Two MoE','CukUp 10']\n",
        "for sentence in teststring:\n",
        "  up,low=calculateupperlower(sentence)\n",
        "  print(sentence,'\\nNo. of upper case characters :',up,'\\nNo. of lower case characters :',low)\n",
        "  print()\n"
      ],
      "execution_count": null,
      "outputs": []
    },
    {
      "cell_type": "code",
      "metadata": {
        "id": "v7M5xHgqZggO",
        "colab": {
          "base_uri": "https://localhost:8080/"
        },
        "outputId": "952c0660-da3a-4a0f-cd46-dc86592cb9d1"
      },
      "source": [
        "## Question 4\n",
        "\n",
        "import re\n",
        "\n",
        "#def fivecharsword(str11):\n",
        "  #if \n",
        "\n",
        "str2='The quick brown fox jumps over the lazy dog. testing'\n",
        "re.findall(r\"\\b\\w{5}\\b\",str2)"
      ],
      "execution_count": 15,
      "outputs": [
        {
          "output_type": "execute_result",
          "data": {
            "text/plain": [
              "['quick', 'brown', 'jumps']"
            ]
          },
          "metadata": {
            "tags": []
          },
          "execution_count": 15
        }
      ]
    },
    {
      "cell_type": "code",
      "metadata": {
        "id": "hhLFF7jGbj4S",
        "colab": {
          "base_uri": "https://localhost:8080/"
        },
        "outputId": "1d60add0-0d6a-49e0-b37e-a3f3df6e2825"
      },
      "source": [
        "## Question 5\n",
        "\n",
        "import re\n",
        "\n",
        "txt=\"Microsoft Corp. today announced its “Bersama Malaysia” (Together with Malaysia) initiative, which marks a significant commitment to empowering Malaysia’s inclusive digital economy and advancing the nation’s digital transformation across the private and public sectors. As part of the plan, Microsoft will establish its first datacenter region in the country to deliver trusted cloud services locally, with world-class data security, privacy, and the ability to store data in-country. Microsoft also announced plans to skill an additional 1 million Malaysians by end of 2023 to help create economic opportunities for people and businesses in the digital era.\"\n",
        "\n",
        "astart=re.findall(r\"\\b[Aa]\\w*\",txt)\n",
        "estart=re.findall(r\"\\b[Ee]\\w*\",txt)\n",
        "threecharacterwords=re.findall(r\"\\b\\w{3}\\b\",txt)\n",
        "fourcharacterwords=re.findall(r\"\\b\\w{4}\\b\",txt)\n",
        "fivecharacterwords=re.findall(r\"\\b\\w{5}\\b\",txt)\n",
        "\n",
        "print(\"Word start with A or a:\", astart)\n",
        "print(\"Word start with E or e:\", estart)\n",
        "print(\"Three-character words:\", threecharacterwords)\n",
        "print(\"Four-character words:\", fourcharacterwords)\n",
        "print(\"Five-character words:\", fivecharacterwords)"
      ],
      "execution_count": 19,
      "outputs": [
        {
          "output_type": "stream",
          "text": [
            "Word start with A or a: ['announced', 'a', 'and', 'advancing', 'across', 'and', 'As', 'and', 'ability', 'also', 'announced', 'an', 'additional', 'and']\n",
            "Word start with E or e: ['empowering', 'economy', 'establish', 'end', 'economic', 'era']\n",
            "Three-character words: ['its', 'and', 'the', 'the', 'and', 'the', 'its', 'the', 'and', 'the', 'end', 'for', 'and', 'the', 'era']\n",
            "Four-character words: ['Corp', 'with', 'part', 'plan', 'will', 'with', 'data', 'data', 'also', '2023', 'help']\n",
            "Five-character words: ['today', 'which', 'marks', 'first', 'cloud', 'world', 'class', 'store', 'plans', 'skill']\n"
          ],
          "name": "stdout"
        }
      ]
    }
  ]
}